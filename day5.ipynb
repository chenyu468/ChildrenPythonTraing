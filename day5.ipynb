{
 "cells": [
  {
   "cell_type": "markdown",
   "metadata": {},
   "source": [
    "# 本章知识点\n",
    "```\n",
    "1、运算符号，% ，表示求余数\n",
    "2、数组符号的使用，[],表示一组数据\n",
    "2、break语句\n",
    "3、True，False常量的用法\n",
    "4、运算符号，= 与 == 的区别\n",
    "5、累计变量的使用方法\n",
    "\n",
    "本章作业目标\n",
    "1、检查一个数字是否质数\n",
    "2、写出1-10哪些数字是质数，哪些是合数\n",
    "\n",
    "\n",
    "```"
   ]
  },
  {
   "cell_type": "markdown",
   "metadata": {},
   "source": [
    "# 运算符号%，表示整除"
   ]
  },
  {
   "cell_type": "code",
   "execution_count": null,
   "metadata": {},
   "outputs": [],
   "source": [
    "5 % 2 \n",
    "10 % 3\n",
    "16 % 3\n"
   ]
  },
  {
   "cell_type": "markdown",
   "metadata": {},
   "source": [
    "# 数组符号 [], 用于表示没有规律的一组数字，可以连续，也可以不连续，\n",
    "```\n",
    "[1,2,3], [5,3,2,6]\n",
    "```"
   ]
  },
  {
   "cell_type": "code",
   "execution_count": 20,
   "metadata": {},
   "outputs": [
    {
     "name": "stdout",
     "output_type": "stream",
     "text": [
      "5\n",
      "3\n",
      "2\n",
      "6\n"
     ]
    }
   ],
   "source": [
    "for i in [5,3,2,6]:\n",
    "    print(i)"
   ]
  },
  {
   "cell_type": "markdown",
   "metadata": {},
   "source": [
    "# 下面是连续的数据"
   ]
  },
  {
   "cell_type": "code",
   "execution_count": null,
   "metadata": {},
   "outputs": [],
   "source": [
    "for i in [1,2,3,4]:\n",
    "    print(i)"
   ]
  },
  {
   "cell_type": "markdown",
   "metadata": {},
   "source": [
    "# break语句，表示退出循环\n",
    "# 下面语句在 i=5退出循环"
   ]
  },
  {
   "cell_type": "code",
   "execution_count": null,
   "metadata": {},
   "outputs": [],
   "source": [
    "for i in range(1,10):\n",
    "    if i >=5:\n",
    "        break\n",
    "    print(i)"
   ]
  },
  {
   "cell_type": "markdown",
   "metadata": {},
   "source": [
    "# 知识点\n",
    "```\n",
    "True，表示真\n",
    "False，表示假\n",
    "\n",
    "== 运算符号，表示等于 = 表示赋值\n",
    "```\n"
   ]
  },
  {
   "cell_type": "code",
   "execution_count": 17,
   "metadata": {},
   "outputs": [
    {
     "name": "stdout",
     "output_type": "stream",
     "text": [
      "假的\n"
     ]
    }
   ],
   "source": [
    "p = 2 > 3  # 整理 = 表示赋值\n",
    "if p == True:  # == 表示等于\n",
    "    print(\"真的\")\n",
    "else:\n",
    "    print(\"假的\")\n"
   ]
  },
  {
   "cell_type": "markdown",
   "metadata": {},
   "source": [
    "# True, False 习题"
   ]
  },
  {
   "cell_type": "code",
   "execution_count": 19,
   "metadata": {},
   "outputs": [
    {
     "name": "stdout",
     "output_type": "stream",
     "text": [
      "假的\n"
     ]
    }
   ],
   "source": [
    "p = True\n",
    "\n",
    "p = (5 % 2 == 0)\n",
    "\n",
    "if p == True:\n",
    "    print(\"真的\")\n",
    "else:\n",
    "    print(\"假的\")\n"
   ]
  },
  {
   "cell_type": "markdown",
   "metadata": {},
   "source": [
    "# 下面检查一个数字是否质数，填写两个？？？内容，计算出是否质数\n",
    "# 使用的算法，是检查是否这个数字可以被2-（n-1）的数字整除，如果可以说明不是质数"
   ]
  },
  {
   "cell_type": "code",
   "execution_count": 15,
   "metadata": {},
   "outputs": [
    {
     "name": "stdout",
     "output_type": "stream",
     "text": [
      "j:10是合数\n"
     ]
    }
   ],
   "source": [
    "j = 10\n",
    "p = True # p是一个记录用的变量，记录在尝试整除过程中的结果，开始是True，一旦发现某个数字可以整数了，设置为false，True表示是质数，False表示是合数\n",
    "for i in range (2,???): \n",
    "    if j % i == ???:    # % 运算符号% 表示求余数\n",
    "        p = False\n",
    "        break\n",
    "if p == True:\n",
    "    print(f\"j:{j}是质数****\")\n",
    "else:\n",
    "    print(f\"j:{j}是合数\")\n",
    "        "
   ]
  },
  {
   "cell_type": "markdown",
   "metadata": {},
   "source": [
    "# 需要计算出全部1-10之间的数字是否质数\n",
    "# 解题方法，是逐个衡量全部的数字是否质数，采用双重循环\n",
    "# 填写下面的？？？，满足上述要求"
   ]
  },
  {
   "cell_type": "code",
   "execution_count": 23,
   "metadata": {},
   "outputs": [
    {
     "name": "stdout",
     "output_type": "stream",
     "text": [
      "j:2是质数****\n",
      "j:3是质数****\n",
      "j:4是合数\n",
      "j:5是质数****\n",
      "j:6是合数\n",
      "j:7是质数****\n",
      "j:8是合数\n",
      "j:9是合数\n"
     ]
    }
   ],
   "source": [
    "n1 = 10\n",
    "for j in range (2,n1):\n",
    "    p = True\n",
    "    for i in range (2,???): \n",
    "        if j % ??? == 0:    # % 运算符号% 表示求余数\n",
    "            p = False\n",
    "            break\n",
    "    if p == True:\n",
    "        print(f\"j:{j}是质数****\")\n",
    "    else:\n",
    "        print(f\"j:{j}是合数\")\n"
   ]
  },
  {
   "cell_type": "markdown",
   "metadata": {},
   "source": [
    "# 作业\n",
    "1、找出一组数中的一个最大数字\n",
    "提示：使用一个单独变量记录max值，数组循环与他比较找到最大的那个"
   ]
  },
  {
   "cell_type": "code",
   "execution_count": 22,
   "metadata": {},
   "outputs": [
    {
     "name": "stdout",
     "output_type": "stream",
     "text": [
      "最大20\n"
     ]
    }
   ],
   "source": [
    "l = [10,5,3,7,6,20,7]\n",
    "m = 0\n",
    "for i in l: # i表示循环l中的每一个数字\n",
    "    if m < i:\n",
    "       ?????  # 这里填写什么？\n",
    "print(f\"最大{m}\")\n"
   ]
  },
  {
   "cell_type": "markdown",
   "metadata": {},
   "source": [
    "2、找出一组数中最大的一个偶数,并打印出这个偶数，代码写在下面的python代码区域"
   ]
  },
  {
   "cell_type": "code",
   "execution_count": null,
   "metadata": {},
   "outputs": [],
   "source": []
  },
  {
   "cell_type": "markdown",
   "metadata": {},
   "source": [
    "3、找出一组数中全部的偶数的【个数】，并打印出来"
   ]
  },
  {
   "cell_type": "code",
   "execution_count": null,
   "metadata": {},
   "outputs": [],
   "source": []
  },
  {
   "cell_type": "markdown",
   "metadata": {},
   "source": [
    "4、找出一组数中全部的质数，并打印出来"
   ]
  },
  {
   "cell_type": "code",
   "execution_count": null,
   "metadata": {},
   "outputs": [],
   "source": []
  },
  {
   "cell_type": "markdown",
   "metadata": {},
   "source": [
    "5、只通过加法实现乘法结果\n",
    "提示: "
   ]
  },
  {
   "cell_type": "code",
   "execution_count": 27,
   "metadata": {},
   "outputs": [
    {
     "name": "stdout",
     "output_type": "stream",
     "text": [
      "1\n",
      "2\n",
      "3\n",
      "4\n",
      "5\n",
      "6\n",
      "7\n",
      "8\n",
      "9\n",
      "10\n",
      "30\n"
     ]
    }
   ],
   "source": [
    "n1 = 3\n",
    "n2 = 10\n",
    "s = 0 # 表示累加结果\n",
    "for i in range(1,n2+1): # i 记录重复加了多少遍，直到满足n2遍为止\n",
    "    s =  ??? + n1\n",
    "print(s)"
   ]
  },
  {
   "cell_type": "markdown",
   "metadata": {},
   "source": [
    "6、只通过减法实现除法结果\n",
    "前提：两个数字是可以整除的\n",
    "补充完毕下面的内容"
   ]
  },
  {
   "cell_type": "code",
   "execution_count": null,
   "metadata": {},
   "outputs": [],
   "source": [
    "n1 = 30\n",
    "n2 = 6\n",
    "d = 0\n",
    "??? # 这里有很多行，参考上面一题补充完毕\n",
    "print(d)"
   ]
  },
  {
   "cell_type": "markdown",
   "metadata": {},
   "source": [
    "# 迁移到day6中说明，，，，while语句说明"
   ]
  },
  {
   "cell_type": "code",
   "execution_count": null,
   "metadata": {},
   "outputs": [],
   "source": []
  },
  {
   "cell_type": "markdown",
   "metadata": {},
   "source": [
    "# 计算一个数除以另一个数的余数\n",
    "## 方法1、心算的方法"
   ]
  },
  {
   "cell_type": "code",
   "execution_count": null,
   "metadata": {},
   "outputs": [],
   "source": [
    "no1 = 30\n",
    "no2 = 7\n",
    "i = 1  # 从1开始乘以7， 7，14，21，28\n",
    "while i * no2 < no1:\n",
    "    i = i + 1;\n",
    "# 当到达35时，上面的循环会跳出来，i= 5\n",
    "# 所以这里 i需要减一后，变成4\n",
    "i = i - 1;\n",
    "l = no1 - no2 * i; # 30 - 28 = 2\n",
    "print(l)"
   ]
  },
  {
   "cell_type": "markdown",
   "metadata": {},
   "source": [
    "# 计算一个数的全部因数\n",
    "## 先计算出全部的因素\n",
    "## 再从中挑选出倍数"
   ]
  },
  {
   "cell_type": "code",
   "execution_count": null,
   "metadata": {},
   "outputs": [],
   "source": [
    "no1 = 90\n",
    "i = 1\n",
    "while no1 / i > i:\n",
    "    if no1 % i == 0:\n",
    "        print(f\"i:{i},90/i:{90/i}\");\n",
    "    i = i + 1;\n",
    "print(f\"i:{i},no1/i,{no1/i},no1%i,{no1%i}\")\n",
    "\n"
   ]
  },
  {
   "cell_type": "markdown",
   "metadata": {},
   "source": [
    "# 方法2，计算出包含2的因子的个数，3的因子的个数，5的因子的个数，7的因子的个数\n"
   ]
  },
  {
   "cell_type": "code",
   "execution_count": null,
   "metadata": {},
   "outputs": [],
   "source": [
    "no1 = 90\n",
    "i= 1\n",
    "value = no1\n",
    "while value % 2 == 0:\n",
    "    print(f\"value:{value}\")\n",
    "    print(2);\n",
    "    value = value / 2;\n",
    "while value % 3 == 0:\n",
    "    print(3);\n",
    "    value = value / 3;\n",
    "while value % 5  == 0 :\n",
    "    print(5);\n",
    "    value = value / 5;\n",
    "while value % 7 == 0:\n",
    "    print(7);\n",
    "    value = value / 7;\n",
    "\n"
   ]
  },
  {
   "cell_type": "markdown",
   "metadata": {},
   "source": [
    "# 已知可能有因子有2，3，5，7，这个数的可能是哪几个数？"
   ]
  },
  {
   "cell_type": "code",
   "execution_count": null,
   "metadata": {},
   "outputs": [],
   "source": [
    "i = [1,2,3,5,7, 2*3,2*5,2*7,3*5,3*7,2*3*5,2*3*7,3*5*7,2*3*5*7]\n",
    "print(i)"
   ]
  },
  {
   "cell_type": "markdown",
   "metadata": {},
   "source": []
  },
  {
   "cell_type": "code",
   "execution_count": null,
   "metadata": {},
   "outputs": [],
   "source": [
    "no1 = 3024\n",
    "i= 1\n",
    "value = no1\n",
    "while value % 2 == 0:\n",
    "    print(f\"value:{value}\")\n",
    "    print(2);\n",
    "    value = value / 2;\n",
    "while value % 3 == 0:\n",
    "    print(3);\n",
    "    value = value / 3;\n",
    "while value % 5  == 0 :\n",
    "    print(5);\n",
    "    value = value / 5;\n",
    "while value % 7 == 0:\n",
    "    print(7);\n",
    "    value = value / 7;\n"
   ]
  },
  {
   "cell_type": "markdown",
   "metadata": {},
   "source": [
    "# 编写程序找出一个数字的全部因数"
   ]
  },
  {
   "cell_type": "code",
   "execution_count": null,
   "metadata": {},
   "outputs": [],
   "source": [
    "number = 20\n",
    "for i in range(1,number+1):\n",
    "    if number % i ==0:\n",
    "        print(i)\n"
   ]
  },
  {
   "cell_type": "markdown",
   "metadata": {},
   "source": [
    "# 找到两个数字的全部公因数"
   ]
  },
  {
   "cell_type": "code",
   "execution_count": null,
   "metadata": {},
   "outputs": [],
   "source": [
    "a = 20\n",
    "b = 30\n",
    "for i in range(1,b+1):\n",
    "    if a % i == 0 and b % i == 0:\n",
    "        print(i)"
   ]
  },
  {
   "cell_type": "markdown",
   "metadata": {},
   "source": [
    "# 允许用户输入两个数字，找到全部因数"
   ]
  },
  {
   "cell_type": "code",
   "execution_count": null,
   "metadata": {},
   "outputs": [],
   "source": [
    "a = int(input(\"number a:\"))\n",
    "b = int(input(\"number b\"))\n",
    "print(f\"number a:{a},number b:{b}\")\n",
    "for i in range(1,b+1):\n",
    "    if a % i == 0 and b % i == 0:\n",
    "        print(i)"
   ]
  },
  {
   "cell_type": "markdown",
   "metadata": {},
   "source": [
    "# 给出3个数字，放入三个变量，找出其中最大的那个，并输出"
   ]
  },
  {
   "cell_type": "markdown",
   "metadata": {},
   "source": [
    "break语句说明，用于停止循环跳出循环"
   ]
  },
  {
   "cell_type": "markdown",
   "metadata": {},
   "source": [
    "# 给出一串数字，找出第一个偶数并打印"
   ]
  },
  {
   "cell_type": "code",
   "execution_count": null,
   "metadata": {},
   "outputs": [],
   "source": [
    "list = [5,9,13,9,4,10,9,10,3]\n",
    "for i in list:\n",
    "    if i % 2 == 0:\n",
    "        print(i)\n",
    "        break"
   ]
  },
  {
   "cell_type": "markdown",
   "metadata": {},
   "source": [
    "# 从1-100中找出全部是17的倍数，且在50-70之间数字"
   ]
  },
  {
   "cell_type": "code",
   "execution_count": null,
   "metadata": {},
   "outputs": [],
   "source": [
    "for i in range(1,101):\n",
    "    if i % 17 == 0 and i >= 50 and i <=70:\n",
    "        print(i)"
   ]
  },
  {
   "cell_type": "markdown",
   "metadata": {},
   "source": [
    "# 给出两个数字，找出他们的最大公倍数，并打印（最大）"
   ]
  },
  {
   "cell_type": "code",
   "execution_count": null,
   "metadata": {},
   "outputs": [],
   "source": []
  },
  {
   "cell_type": "markdown",
   "metadata": {},
   "source": [
    "# 给出两个数字，找出他们的最小公约数，并打印（最小）"
   ]
  }
 ],
 "metadata": {
  "kernelspec": {
   "display_name": "Python 3",
   "language": "python",
   "name": "python3"
  },
  "language_info": {
   "codemirror_mode": {
    "name": "ipython",
    "version": 3
   },
   "file_extension": ".py",
   "mimetype": "text/x-python",
   "name": "python",
   "nbconvert_exporter": "python",
   "pygments_lexer": "ipython3",
   "version": "3.12.2"
  }
 },
 "nbformat": 4,
 "nbformat_minor": 2
}
