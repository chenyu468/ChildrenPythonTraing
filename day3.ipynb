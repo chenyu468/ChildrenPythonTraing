{
 "cells": [
  {
   "cell_type": "markdown",
   "metadata": {},
   "source": [
    "# 循环预测题1，循环结果"
   ]
  },
  {
   "cell_type": "code",
   "execution_count": 42,
   "metadata": {},
   "outputs": [
    {
     "name": "stdout",
     "output_type": "stream",
     "text": [
      "1 *\n",
      "2 *\n",
      "3 *\n",
      "4 *\n",
      "5 *\n",
      "6 *\n",
      "7 *\n",
      "8 *\n",
      "9 *\n",
      "10 *\n"
     ]
    }
   ],
   "source": [
    "for i in range(1,11):\n",
    "    print(i,\"*\")"
   ]
  },
  {
   "cell_type": "code",
   "execution_count": 43,
   "metadata": {},
   "outputs": [
    {
     "name": "stdout",
     "output_type": "stream",
     "text": [
      "0 *\n",
      "1 *\n",
      "2 *\n",
      "3 *\n",
      "4 *\n",
      "5 *\n",
      "6 *\n",
      "7 *\n",
      "8 *\n",
      "9 *\n",
      "10 *\n"
     ]
    }
   ],
   "source": [
    "for i in range(11):\n",
    "    print(i,\"*\")"
   ]
  },
  {
   "cell_type": "code",
   "execution_count": 44,
   "metadata": {},
   "outputs": [
    {
     "name": "stdout",
     "output_type": "stream",
     "text": [
      "1\n",
      "2\n",
      "3\n"
     ]
    }
   ],
   "source": [
    "for i in [1,2,3]:\n",
    "    print(i)"
   ]
  },
  {
   "cell_type": "code",
   "execution_count": 45,
   "metadata": {},
   "outputs": [
    {
     "name": "stdout",
     "output_type": "stream",
     "text": [
      "a b \n",
      "a b \n",
      "a b \n"
     ]
    }
   ],
   "source": [
    "for i in [1,2,3]:\n",
    "    for j in [\"a\",\"b\"]:\n",
    "        print(j,end=\" \")\n",
    "    print(\"\")"
   ]
  },
  {
   "cell_type": "code",
   "execution_count": 46,
   "metadata": {},
   "outputs": [
    {
     "name": "stdout",
     "output_type": "stream",
     "text": [
      "1  a b \n",
      "2  a b \n",
      "3  a b \n"
     ]
    }
   ],
   "source": [
    "for i in [1,2,3]:\n",
    "    print(i,end = \"  \")\n",
    "    for j in [\"a\",\"b\"]:\n",
    "        print(j,end=\" \")\n",
    "    print(\"\")"
   ]
  },
  {
   "cell_type": "markdown",
   "metadata": {},
   "source": [
    "需要打印出下列内容,下列程序如何改写后，能打印出下列内容\n",
    "1 a b 1\n",
    "2 a b 2\n",
    "3 a b 3"
   ]
  },
  {
   "cell_type": "code",
   "execution_count": 47,
   "metadata": {},
   "outputs": [
    {
     "name": "stdout",
     "output_type": "stream",
     "text": [
      "1  a b \n",
      "2  a b \n",
      "3  a b \n"
     ]
    }
   ],
   "source": [
    "for i in [1,2,3]:\n",
    "    print(i,end = \"  \")\n",
    "    for j in [\"a\",\"b\"]:\n",
    "        print(j,end=\" \")\n",
    "    print(\"\")"
   ]
  },
  {
   "cell_type": "markdown",
   "metadata": {},
   "source": [
    "三重循环"
   ]
  },
  {
   "cell_type": "code",
   "execution_count": 48,
   "metadata": {},
   "outputs": [
    {
     "name": "stdout",
     "output_type": "stream",
     "text": [
      "part  1\n",
      "10 :100 200 \n",
      "20 :100 200 \n",
      "part  2\n",
      "10 :100 200 \n",
      "20 :100 200 \n"
     ]
    }
   ],
   "source": [
    "for i in [1,2]:\n",
    "    print(\"part \",i)\n",
    "    for j in [10,20]:\n",
    "        print(j,\":\",end=\"\")\n",
    "        for k in [100,200]:\n",
    "            print(k,end=\" \")\n",
    "        print(\"\")\n"
   ]
  },
  {
   "cell_type": "markdown",
   "metadata": {},
   "source": [
    "三重循环打印下跌内容，如何修改下列代码\n",
    "part  1\n",
    "10 :100 200 300\n",
    "20 :100 200 300\n",
    "part  2\n",
    "10 :100 200 300\n",
    "20 :100 200 300\n",
    "part  3\n",
    "10 :100 200 300\n",
    "20 :100 200 300\n",
    "part  4\n",
    "10 :100 200 300\n",
    "20 :100 200 300"
   ]
  },
  {
   "cell_type": "code",
   "execution_count": 49,
   "metadata": {},
   "outputs": [
    {
     "name": "stdout",
     "output_type": "stream",
     "text": [
      "part  1\n",
      "10 :100 200 \n",
      "20 :100 200 \n",
      "part  2\n",
      "10 :100 200 \n",
      "20 :100 200 \n"
     ]
    }
   ],
   "source": [
    "for i in [1,2]:\n",
    "    print(\"part \",i)\n",
    "    for j in [10,20]:\n",
    "        print(j,\":\",end=\"\")\n",
    "        for k in [100,200]:\n",
    "            print(k,end=\" \")\n",
    "        print(\"\")"
   ]
  },
  {
   "cell_type": "markdown",
   "metadata": {},
   "source": [
    "用两种方法打印下列内容\n",
    "1 2 3 4\n",
    "2 3 4 5\n",
    "3 4 5 6"
   ]
  },
  {
   "cell_type": "code",
   "execution_count": 50,
   "metadata": {},
   "outputs": [],
   "source": [
    "for i in []:\n",
    "    for j in []:\n",
    "        print()\n",
    "    print()"
   ]
  },
  {
   "cell_type": "code",
   "execution_count": 51,
   "metadata": {},
   "outputs": [
    {
     "ename": "TypeError",
     "evalue": "range expected at least 1 argument, got 0",
     "output_type": "error",
     "traceback": [
      "\u001b[1;31m---------------------------------------------------------------------------\u001b[0m",
      "\u001b[1;31mTypeError\u001b[0m                                 Traceback (most recent call last)",
      "Cell \u001b[1;32mIn[51], line 1\u001b[0m\n\u001b[1;32m----> 1\u001b[0m \u001b[38;5;28;01mfor\u001b[39;00m i \u001b[38;5;129;01min\u001b[39;00m \u001b[38;5;28;43mrange\u001b[39;49m\u001b[43m(\u001b[49m\u001b[43m)\u001b[49m:\n\u001b[0;32m      2\u001b[0m     \u001b[38;5;28;01mfor\u001b[39;00m j \u001b[38;5;129;01min\u001b[39;00m \u001b[38;5;28mrange\u001b[39m():\n\u001b[0;32m      3\u001b[0m         \u001b[38;5;28mprint\u001b[39m()\n",
      "\u001b[1;31mTypeError\u001b[0m: range expected at least 1 argument, got 0"
     ]
    }
   ],
   "source": [
    "for i in range(???):\n",
    "    for j in range(???):\n",
    "        print()\n",
    "    print()"
   ]
  },
  {
   "cell_type": "markdown",
   "metadata": {},
   "source": [
    "方法3，填充，？？？？？用适当的内容填充"
   ]
  },
  {
   "cell_type": "code",
   "execution_count": null,
   "metadata": {},
   "outputs": [],
   "source": [
    "for i in []:\n",
    "    for j in range(i,i+????):\n",
    "        print(j,end=\"\")\n",
    "    print(?????)"
   ]
  },
  {
   "cell_type": "markdown",
   "metadata": {},
   "source": [
    "四重循环，提高题\n",
    "编写一个四重循环，打印出下列内容,第一重循环，打印\"para\"内容，第二重循环，打印“part”内容，第三重循环，打印line内容，第四重循环，打印行的内容，\n",
    "1、注意点：\n",
    "1.1. part1，part2之间有空格\n",
    "\n",
    "\n",
    "para:1\n",
    "part:1\n",
    "line:1\n",
    "1,2,3,4,\n",
    "line:2\n",
    "1,2,3,4,\n",
    "\n",
    "part:2\n",
    "line:1\n",
    "1,2,3,4,\n",
    "line:2\n",
    "1,2,3,4,\n",
    "\n",
    "para:2\n",
    "part:1\n",
    "line:1\n",
    "1,2,3,4,\n",
    "line:2\n",
    "1,2,3,4,\n",
    "\n",
    "part:2\n",
    "line:1\n",
    "1,2,3,4,\n",
    "line:2\n",
    "1,2,3,4,\n"
   ]
  },
  {
   "cell_type": "code",
   "execution_count": null,
   "metadata": {},
   "outputs": [],
   "source": [
    "for i in [1,2]:\n",
    "    print(\"para:\",i)\n",
    "    for j in [1,2]:\n",
    "        print(\"part:\",j)\n",
    "        for k in [1,2]:\n",
    "            print(\"line:\",k)\n",
    "            for l in [1,2,3,4]:\n",
    "                print(l,\",\",end=\"\")\n",
    "            print(\"\")\n",
    "        print(\"\")"
   ]
  },
  {
   "cell_type": "markdown",
   "metadata": {},
   "source": [
    "# 分支路径\n",
    "# if else\n",
    "# match case\n",
    "# and \n",
    "# or\n",
    "# not"
   ]
  },
  {
   "cell_type": "markdown",
   "metadata": {},
   "source": [
    "## 题目1"
   ]
  },
  {
   "cell_type": "code",
   "execution_count": null,
   "metadata": {},
   "outputs": [],
   "source": [
    "j = 3\n",
    "if j >2:\n",
    "    print(\"a\")\n",
    "else:\n",
    "    print(\"b\")\n",
    "print(\"c\")"
   ]
  },
  {
   "cell_type": "markdown",
   "metadata": {},
   "source": [
    "## 题目2"
   ]
  },
  {
   "cell_type": "code",
   "execution_count": null,
   "metadata": {},
   "outputs": [],
   "source": [
    "j = 5\n",
    "if j > 3:\n",
    "    if j > 6:\n",
    "        print(\"a\")\n",
    "    else:\n",
    "        print(\"b\")\n",
    "    print(\"c\")\n",
    "else:\n",
    "    print(\"d\")\n",
    "print(\"e\")"
   ]
  },
  {
   "cell_type": "code",
   "execution_count": null,
   "metadata": {},
   "outputs": [],
   "source": [
    "j = 5\n",
    "if j >= 3 and j <= 5:\n",
    "    print(\"a\")\n",
    "else:\n",
    "    print(\"b\")"
   ]
  },
  {
   "cell_type": "code",
   "execution_count": null,
   "metadata": {},
   "outputs": [],
   "source": [
    "j = 7\n",
    "if j >= 3 and j <= 5:\n",
    "    print(\"a\")\n",
    "else:\n",
    "    print(\"b\")"
   ]
  },
  {
   "cell_type": "code",
   "execution_count": null,
   "metadata": {},
   "outputs": [],
   "source": [
    "j = 3\n",
    "if j >= 3 or j <= 5:\n",
    "    print(\"a\")\n",
    "else:\n",
    "    print(\"b\")"
   ]
  },
  {
   "cell_type": "code",
   "execution_count": null,
   "metadata": {},
   "outputs": [],
   "source": [
    "j = 7\n",
    "if not j >= 3:\n",
    "    print(\"a\")\n",
    "else:\n",
    "    print(\"b\")"
   ]
  },
  {
   "cell_type": "code",
   "execution_count": null,
   "metadata": {},
   "outputs": [],
   "source": [
    "j = 7\n",
    "i = 5\n",
    "if j >= 3 and j <= 8 or j >3:\n",
    "    print(\"a\")\n",
    "else:\n",
    "    print(\"b\")"
   ]
  },
  {
   "cell_type": "code",
   "execution_count": null,
   "metadata": {},
   "outputs": [],
   "source": [
    "j = 9\n",
    "i = 5\n",
    "if j >= 3 and j <= 8 or j >3:\n",
    "    print(\"a\")\n",
    "else:\n",
    "    print(\"b\")"
   ]
  },
  {
   "cell_type": "markdown",
   "metadata": {},
   "source": [
    "## 题目3"
   ]
  },
  {
   "cell_type": "code",
   "execution_count": null,
   "metadata": {},
   "outputs": [],
   "source": [
    "i = 3\n",
    "j = 5\n",
    "if i > 3:\n",
    "    print(\"a\")\n",
    "    if j > 3:\n",
    "        print(\"b\")\n",
    "    else:\n",
    "        print(\"c\")\n",
    "    print(\"d\")\n",
    "else:\n",
    "    print(\"e\")\n",
    "print(\"f\")"
   ]
  },
  {
   "cell_type": "markdown",
   "metadata": {},
   "source": [
    "## 题目4"
   ]
  },
  {
   "cell_type": "code",
   "execution_count": null,
   "metadata": {},
   "outputs": [],
   "source": [
    "i= \"a\"\n",
    "match i:\n",
    "    case \"a\":\n",
    "        print(\"a\")\n",
    "    case \"b\":\n",
    "        print(\"b\")\n",
    "    case \"c\":\n",
    "        print(\"c\")\n",
    "    case \"d\":\n",
    "        print(\"d\")"
   ]
  },
  {
   "cell_type": "markdown",
   "metadata": {},
   "source": [
    "## 题目4，\n",
    "### 输入a\n",
    "### 输入b\n",
    "### 输入f\n",
    "### 输入m\n",
    "#### 预测返回的是什么内容"
   ]
  },
  {
   "cell_type": "code",
   "execution_count": null,
   "metadata": {},
   "outputs": [],
   "source": [
    "i= input(\"请输入\")\n",
    "match i:\n",
    "    case \"a\":\n",
    "        print(\"a\")\n",
    "    case \"b\":\n",
    "        print(\"b\")\n",
    "    case \"c\":\n",
    "        print(\"c\")\n",
    "    case \"d\":\n",
    "        print(\"d\")\n",
    "    case _:\n",
    "        print(\"e\")"
   ]
  },
  {
   "cell_type": "markdown",
   "metadata": {},
   "source": [
    "## 题目5\n",
    "### 循环与分支结合题目"
   ]
  },
  {
   "cell_type": "code",
   "execution_count": null,
   "metadata": {},
   "outputs": [],
   "source": [
    "for i in [1,2,3,4]:\n",
    "    if i >= 3:\n",
    "        print(\"a\",end=\"\")\n",
    "    else:\n",
    "        print(\"b\",end=\"\")\n"
   ]
  },
  {
   "cell_type": "markdown",
   "metadata": {},
   "source": [
    "## 填空题\n",
    "## 打印下列内容 1  2  6  7  8  9  10  ，注意不包含3，4，5"
   ]
  },
  {
   "cell_type": "code",
   "execution_count": null,
   "metadata": {},
   "outputs": [],
   "source": [
    "for i in range(1,11):\n",
    "    if i >= 3 and i <= 5:\n",
    "        print(\"\",end=\"\")\n",
    "    else:\n",
    "        print(i,\" \",end=\"\")\n",
    "        "
   ]
  },
  {
   "cell_type": "markdown",
   "metadata": {},
   "source": []
  }
 ],
 "metadata": {
  "kernelspec": {
   "display_name": "Python 3",
   "language": "python",
   "name": "python3"
  },
  "language_info": {
   "codemirror_mode": {
    "name": "ipython",
    "version": 3
   },
   "file_extension": ".py",
   "mimetype": "text/x-python",
   "name": "python",
   "nbconvert_exporter": "python",
   "pygments_lexer": "ipython3",
   "version": "3.12.2"
  }
 },
 "nbformat": 4,
 "nbformat_minor": 2
}
