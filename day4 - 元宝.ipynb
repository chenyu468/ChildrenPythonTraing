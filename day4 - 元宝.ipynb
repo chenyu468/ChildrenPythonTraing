{
 "cells": [
  {
   "cell_type": "code",
   "execution_count": null,
   "metadata": {},
   "outputs": [],
   "source": []
  },
  {
   "cell_type": "markdown",
   "metadata": {},
   "source": [
    "# day4，学习赋值语句，学习数据语句"
   ]
  },
  {
   "cell_type": "markdown",
   "metadata": {},
   "source": [
    "使用4句语句构造天气预报\n",
    "day，weather，temperature，wind_direction,wind_speed,是5个变量\n",
    "day，weather,wind_direction是字符串类型变量\n",
    "tempature，wind_speed是数字类型变量（整数类型）"
   ]
  },
  {
   "cell_type": "code",
   "execution_count": null,
   "metadata": {},
   "outputs": [],
   "source": [
    "day = 'Monday'\n",
    "weather = 'cloudy'\n",
    "temperature = 28\n",
    "wind_direction = 'north'\n",
    "wind_speed = 5\n",
    "print(\"first(第一种方法)\")\n",
    "print(day,\":weather:\",weather,\",\",\"temperature\",temperature,\"direction:\",wind_direction,\",speed:\",wind_speed)\n",
    "print(\"second（第二种方法:\")\n",
    "print(f\"{day}:weather:{weather},temperature:{temperature},direction:{wind_direction},speed:{wind_speed}\")"
   ]
  },
  {
   "cell_type": "code",
   "execution_count": null,
   "metadata": {},
   "outputs": [],
   "source": [
    "d = '星期一'\n",
    "w = '多云'\n",
    "t = 28\n",
    "di = '北'\n",
    "s = 5\n",
    "# print(d,\"天气:\",w)\n",
    "print(d,\"方向\",di)\n",
    "\n",
    "d = '星期二'\n",
    "w = '下雨'\n",
    "t = 30\n",
    "di = '南'\n",
    "s = 10\n",
    "print(d,\"方向\",di)"
   ]
  },
  {
   "cell_type": "markdown",
   "metadata": {},
   "source": [
    "整数变量，是可以计算用的变量，字符串变量是用来表示文字的变量，不用来计算，但是文字可以替换组合\n",
    "下面两个例子，一个是乘法，一个是加法"
   ]
  },
  {
   "cell_type": "code",
   "execution_count": null,
   "metadata": {},
   "outputs": [],
   "source": [
    "pen = 5\n",
    "person = 10\n",
    "# print(pen)\n",
    "# print(person)\n",
    "# print(f\"person:{person}\")\n",
    "\n",
    "\n",
    "total = pen * person\n",
    "print(f\"total:{total}\")"
   ]
  },
  {
   "cell_type": "code",
   "execution_count": null,
   "metadata": {},
   "outputs": [],
   "source": [
    "group_a_quantity = 3\n",
    "group_b_quantity = 5\n",
    "total_group_quantity = group_a_quantity + group_b_quantity\n",
    "print(f\"total:{total_group_quantity}\")"
   ]
  },
  {
   "cell_type": "code",
   "execution_count": null,
   "metadata": {},
   "outputs": [],
   "source": [
    "number = 10\n",
    "divisor = 3\n",
    "result = number // divisor\n",
    "left = number % divisor\n",
    "print(f\"result:{result},left:{left}\")"
   ]
  },
  {
   "cell_type": "code",
   "execution_count": null,
   "metadata": {},
   "outputs": [],
   "source": [
    "a = 20\n",
    "b = 3\n",
    "c = a // b\n",
    "d = a % b\n",
    "print(f\"c:{c}\")\n",
    "print(f\"d:{d}\")"
   ]
  },
  {
   "cell_type": "markdown",
   "metadata": {},
   "source": [
    "字符串拼接"
   ]
  },
  {
   "cell_type": "code",
   "execution_count": null,
   "metadata": {},
   "outputs": [],
   "source": [
    "first_sentence = \"hello\"\n",
    "second_sentence = \"world\"\n",
    "total_sentence = first_sentence + \" \" + second_sentence\n",
    "print(f\"total:{total_sentence}\")"
   ]
  },
  {
   "cell_type": "code",
   "execution_count": null,
   "metadata": {},
   "outputs": [],
   "source": [
    "a = \"你\"\n",
    "b = \"好\"\n",
    "c = a + b\n",
    "print(f\"total:{c}\")"
   ]
  },
  {
   "cell_type": "markdown",
   "metadata": {},
   "source": [
    "编程题1：\n",
    "1、2年级每个班级的编号赋值给变量\n",
    "2、在一行中打印出全部班级\n",
    "a11 = 10 11 12 \n",
    "20 21 22 23\n",
    "b \n"
   ]
  },
  {
   "cell_type": "code",
   "execution_count": 1,
   "metadata": {},
   "outputs": [
    {
     "name": "stdout",
     "output_type": "stream",
     "text": [
      "b119\n"
     ]
    }
   ],
   "source": [
    "a11 = 10\n",
    "a12 = 11\n",
    "a13 = 12\n",
    "a21 = 20\n",
    "a22 = 21\n",
    "\n",
    "a23 = 22\n",
    "a24 = 23\n",
    "\n",
    "b = a11 + a12 + a13+a21+a22+a23+a24\n",
    "print(f\"b{b}\")"
   ]
  },
  {
   "cell_type": "markdown",
   "metadata": {},
   "source": [
    "编程题2\n",
    "1、给出元宝一列的同学的名称的拼音，放到不同的变量里面（使用每个名字的首字母表示名称，缩短名称长度，减少输入时间）\n",
    "2、在一行中打印出全部同学的名称"
   ]
  },
  {
   "cell_type": "code",
   "execution_count": 2,
   "metadata": {},
   "outputs": [
    {
     "name": "stdout",
     "output_type": "stream",
     "text": [
      "bzdlhh\n"
     ]
    }
   ],
   "source": [
    "b14=\"z\"\n",
    "b24=\"d\"\n",
    "b34=\"l\"\n",
    "b44=\"h\"\n",
    "b54=\"h\"\n",
    "b=b14+b24+b34+b44+b54\n",
    "print(f\"b{b}\")\n",
    "\n",
    "\n",
    "\n"
   ]
  },
  {
   "cell_type": "markdown",
   "metadata": {},
   "source": [
    "```\n",
    "编程题3\n",
    "1、给出元宝一列的同学的名称的拼音，放到不同的变量里面\n",
    "2、在一行中打印出这列同学的名称\n",
    "3、将元宝左侧一列的同学的名称的拼音，放在之前相同的变量里面\n",
    "4、在一行中打印出第二列同学的名称\n",
    "```"
   ]
  },
  {
   "cell_type": "code",
   "execution_count": 12,
   "metadata": {},
   "outputs": [
    {
     "name": "stdout",
     "output_type": "stream",
     "text": [
      "b许赵陈陆苏\n"
     ]
    }
   ],
   "source": [
    "# b14=\"z\"\n",
    "# b24=\"d\"\n",
    "# b34=\"l\"\n",
    "# b44=\"h\"\n",
    "# b54=\"h\"\n",
    "# b=b14+b24+b34+b44+b54\n",
    "# print(f\"b{b}\")\n",
    "# b14=\"諸\"\n",
    "# b24=\"段\"\n",
    "# b34=\"李\"\n",
    "# b44=\"何\"\n",
    "# b54=\"胡\"\n",
    "# # b=b14+b24+b34+b44+b54\n",
    "# print(f\"b{b}\")\n",
    "# print(f\"b{b}\")\n",
    "# b14=\"zhu\"\n",
    "# b24=\"duan\"\n",
    "# b34=\"li\"\n",
    "# b44=\"he\"\n",
    "# b54=\"hu\"\n",
    "# b=b14+b24+b34+b44+b54\n",
    "\n",
    "b14=\"许\"\n",
    "b24=\"赵\"\n",
    "b34=\"陈\"\n",
    "b44=\"陆\"\n",
    "b54=\"苏\"\n",
    "b=b14+b24+b34+b44+b54\n",
    "print(f\"b{b}\")"
   ]
  },
  {
   "cell_type": "markdown",
   "metadata": {},
   "source": [
    "# 输入语句“input”学习"
   ]
  },
  {
   "cell_type": "markdown",
   "metadata": {},
   "source": [
    "```\n",
    "编程题4\n",
    "1、输入1个数字表示1个苹果的价格\n",
    "2、计算出23个苹果的价格\n",
    "3、输出结果在屏幕上\n",
    "```"
   ]
  },
  {
   "cell_type": "markdown",
   "metadata": {},
   "source": [
    "a=23*1\n",
    "a+0=\n",
    "\n"
   ]
  },
  {
   "cell_type": "code",
   "execution_count": 13,
   "metadata": {},
   "outputs": [
    {
     "name": "stdout",
     "output_type": "stream",
     "text": [
      "price:1,total:23\n"
     ]
    }
   ],
   "source": [
    "price = int(input(\"apple price:\"))\n",
    "total = price * 23\n",
    "print(f\"price:{price},total:{total}\")"
   ]
  },
  {
   "cell_type": "markdown",
   "metadata": {},
   "source": [
    "```\n",
    "编程题5\n",
    "1、输入同学的名字的第一个字，输入同学的第二个字\n",
    "2、拼接成完成的名字\n",
    "3、输出名字\n",
    "```"
   ]
  },
  {
   "cell_type": "code",
   "execution_count": 15,
   "metadata": {},
   "outputs": [
    {
     "data": {
      "text/plain": [
       "'王文心'"
      ]
     },
     "execution_count": 15,
     "metadata": {},
     "output_type": "execute_result"
    }
   ],
   "source": [
    "\"王文\"\n",
    "\"王文心\"\n",
    "\n",
    "\n",
    "\n",
    "\n",
    "\n",
    "\n",
    "\n"
   ]
  },
  {
   "cell_type": "code",
   "execution_count": null,
   "metadata": {},
   "outputs": [],
   "source": [
    "first_name = input(\"first name:\")\n",
    "second_name = input(\"second name:\")\n",
    "name = first_name + second_name\n",
    "print(f\"name:{name}\")"
   ]
  },
  {
   "cell_type": "markdown",
   "metadata": {},
   "source": [
    "# 总结\n",
    "1、了解input用法\n",
    "2、了解print语句的格式化的用法\n",
    "3、了解字符串变量，整数变量的区别\n",
    "4、了解赋值语句的含义\n",
    "5、了解int函数的使用方法，int(\"23\")\n"
   ]
  },
  {
   "cell_type": "markdown",
   "metadata": {},
   "source": [
    "# 练习\n",
    "## 编程题6\n",
    "1、计算元宝过去天的作业的时间消耗\n",
    "数学=1小时\n",
    "语文=1小时\n",
    "计算机=2小时\n",
    "打字=1小时\n",
    "打印出总的时间消耗\n",
    "1+1+2+1=5（小时）\n",
    "2、计算出这个二年级同学的数量\n",
    "25*4 （在下面写程序）\n",
    "3、要求用户给出4个数字，并计算出总和，并输出\n",
    "\n",
    "4、要求用户给出5个数字，并计算出总的乘积，并输出\n",
    "\n",
    "\n",
    "\n"
   ]
  },
  {
   "cell_type": "code",
   "execution_count": 4,
   "metadata": {},
   "outputs": [
    {
     "name": "stdout",
     "output_type": "stream",
     "text": [
      "total:5\n"
     ]
    }
   ],
   "source": [
    "# 这里写程序\n",
    "# a11=25\n",
    "# a11*4\n",
    "## 第一题\n",
    "m = 1 # 数学\n",
    "y = 1 # 语文\n",
    "j = 2 # 计算机\n",
    "t = 1 # 打字\n",
    "t = m + y + j +t\n",
    "print(f\"total:{t}\")\n",
    "\n"
   ]
  },
  {
   "cell_type": "code",
   "execution_count": 5,
   "metadata": {},
   "outputs": [
    {
     "name": "stdout",
     "output_type": "stream",
     "text": [
      "total:100\n"
     ]
    }
   ],
   "source": [
    "# 25+25+25+25\n",
    "# 25+25+25+20+5\n",
    "\n",
    "# 第二题\n",
    "b1 = 10 # 第一班人数\n",
    "b2 = 20 # 第二版人数\n",
    "b3 = 30 # 第三班人数\n",
    "b4 = 40 # 第四版人数\n",
    "t = b1 + b2 + b3 + b4\n",
    "print(f\"total:{t}\")"
   ]
  },
  {
   "cell_type": "code",
   "execution_count": 6,
   "metadata": {},
   "outputs": [
    {
     "name": "stdout",
     "output_type": "stream",
     "text": [
      "total:10\n"
     ]
    }
   ],
   "source": [
    "# 第三题\n",
    "n1 = int(input(\"请输入第一个数字\")) # int用于将字符串转换为整数， input用于输入数字\n",
    "n2 = int(input(\"请输入第二个数字\"))\n",
    "n3 = int(input(\"请输入第一个数字\"))\n",
    "n4 = int(input(\"请输入第二个数字\"))\n",
    "t = n1 + n2 + n3 + n4\n",
    "print(f\"total:{t}\")"
   ]
  },
  {
   "cell_type": "code",
   "execution_count": null,
   "metadata": {},
   "outputs": [],
   "source": [
    "# 第四题"
   ]
  },
  {
   "cell_type": "markdown",
   "metadata": {},
   "source": [
    "# 字符串类型与整数类型的转换方法"
   ]
  },
  {
   "cell_type": "code",
   "execution_count": null,
   "metadata": {},
   "outputs": [],
   "source": []
  }
 ],
 "metadata": {
  "kernelspec": {
   "display_name": "Python 3",
   "language": "python",
   "name": "python3"
  },
  "language_info": {
   "codemirror_mode": {
    "name": "ipython",
    "version": 3
   },
   "file_extension": ".py",
   "mimetype": "text/x-python",
   "name": "python",
   "nbconvert_exporter": "python",
   "pygments_lexer": "ipython3",
   "version": "3.12.2"
  }
 },
 "nbformat": 4,
 "nbformat_minor": 2
}
