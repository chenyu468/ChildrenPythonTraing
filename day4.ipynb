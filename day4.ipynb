{
 "cells": [
  {
   "cell_type": "code",
   "execution_count": null,
   "metadata": {},
   "outputs": [],
   "source": []
  },
  {
   "cell_type": "markdown",
   "metadata": {},
   "source": [
    "# day4，学习赋值语句，学习数据语句"
   ]
  },
  {
   "cell_type": "markdown",
   "metadata": {},
   "source": [
    "使用4句语句构造天气预报\n",
    "day，weather，temperature，wind_direction,wind_speed,是5个变量\n",
    "day，weather,wind_direction是字符串类型变量\n",
    "tempature，wind_speed是数字类型变量（整数类型）"
   ]
  },
  {
   "cell_type": "code",
   "execution_count": 4,
   "metadata": {},
   "outputs": [
    {
     "name": "stdout",
     "output_type": "stream",
     "text": [
      "second\n",
      "Monday :weather: cloudy , temperature 28 direction: north ,speed: 5\n",
      "first:\n",
      "Monday:weather:cloudy,temperature:28,direction:north,speed:5\n"
     ]
    }
   ],
   "source": [
    "day = 'Monday'\n",
    "weather = 'cloudy'\n",
    "temperature = 28\n",
    "wind_direction = 'north'\n",
    "wind_speed = 5\n",
    "print(\"first(第一种方法)\")\n",
    "print(day,\":weather:\",weather,\",\",\"temperature\",temperature,\"direction:\",wind_direction,\",speed:\",wind_speed)\n",
    "print(\"second（第二种方法:\")\n",
    "print(f\"{day}:weather:{weather},temperature:{temperature},direction:{wind_direction},speed:{wind_speed}\")"
   ]
  },
  {
   "cell_type": "markdown",
   "metadata": {},
   "source": [
    "整数变量，是可以计算用的变量，字符串变量是用来表示文字的变量，不用来计算，但是文字可以替换组合\n",
    "下面两个例子，一个是乘法，一个是加法"
   ]
  },
  {
   "cell_type": "code",
   "execution_count": 5,
   "metadata": {},
   "outputs": [
    {
     "name": "stdout",
     "output_type": "stream",
     "text": [
      "total:50\n"
     ]
    }
   ],
   "source": [
    "pen = 5\n",
    "person = 10\n",
    "total = pen*person\n",
    "print(f\"total:{total}\")"
   ]
  },
  {
   "cell_type": "code",
   "execution_count": 9,
   "metadata": {},
   "outputs": [
    {
     "name": "stdout",
     "output_type": "stream",
     "text": [
      "total:8\n"
     ]
    }
   ],
   "source": [
    "group_a_quantity = 3\n",
    "group_b_quantity = 5\n",
    "total_group_quantity = group_a_quantity + group_b_quantity\n",
    "print(f\"total:{total_group_quantity}\")"
   ]
  },
  {
   "cell_type": "code",
   "execution_count": 10,
   "metadata": {},
   "outputs": [
    {
     "name": "stdout",
     "output_type": "stream",
     "text": [
      "result:3,left:1\n"
     ]
    }
   ],
   "source": [
    "number = 10\n",
    "divisor = 3\n",
    "result = number // divisor\n",
    "left = number % divisor\n",
    "print(f\"result:{result},left:{left}\")"
   ]
  },
  {
   "cell_type": "markdown",
   "metadata": {},
   "source": [
    "字符串拼接"
   ]
  },
  {
   "cell_type": "code",
   "execution_count": 8,
   "metadata": {},
   "outputs": [
    {
     "name": "stdout",
     "output_type": "stream",
     "text": [
      "total:hello world\n"
     ]
    }
   ],
   "source": [
    "first_sentence = \"hello\"\n",
    "second_sentence = \"world\"\n",
    "total_sentence = first_sentence + \" \" + second_sentence\n",
    "print(f\"total:{total_sentence}\")"
   ]
  },
  {
   "cell_type": "markdown",
   "metadata": {},
   "source": [
    "编程题1：\n",
    "1、2年级每个班级的编号赋值给变量\n",
    "2、在一行中打印出全部班级"
   ]
  },
  {
   "cell_type": "code",
   "execution_count": null,
   "metadata": {},
   "outputs": [],
   "source": []
  },
  {
   "cell_type": "markdown",
   "metadata": {},
   "source": [
    "编程题2\n",
    "1、给出元宝一列的同学的名称的拼音，放到不同的变量里面（使用每个名字的首字母表示名称，缩短名称长度，减少输入时间）\n",
    "2、在一行中打印出全部同学的名称"
   ]
  },
  {
   "cell_type": "code",
   "execution_count": null,
   "metadata": {},
   "outputs": [],
   "source": []
  },
  {
   "cell_type": "markdown",
   "metadata": {},
   "source": [
    "编程题3\n",
    "1、给出元宝一列的同学的名称的拼音，放到不同的变量里面\n",
    "2、在一行中打印出这列同学的名称\n",
    "3、将元宝左侧一列的同学的名称的拼音，放在之前相同的变量里面\n",
    "4、在一行中打印出第二列部同学的名称"
   ]
  },
  {
   "cell_type": "code",
   "execution_count": null,
   "metadata": {},
   "outputs": [],
   "source": []
  },
  {
   "cell_type": "markdown",
   "metadata": {},
   "source": [
    "# 输入语句“input”学习"
   ]
  },
  {
   "cell_type": "markdown",
   "metadata": {},
   "source": [
    "编程题1\n",
    "1、输入1个数字表示1个苹果的价格\n",
    "2、计算出23个苹果的价格\n",
    "3、输出结果在屏幕上"
   ]
  },
  {
   "cell_type": "code",
   "execution_count": 11,
   "metadata": {},
   "outputs": [
    {
     "name": "stdout",
     "output_type": "stream",
     "text": [
      "price:5,total:115\n"
     ]
    }
   ],
   "source": [
    "price = int(input(\"apple price:\"))\n",
    "total = price * 23\n",
    "print(f\"price:{price},total:{total}\")"
   ]
  },
  {
   "cell_type": "markdown",
   "metadata": {},
   "source": [
    "编程题2\n",
    "1、输入同学的名字的第一个字，输入同学的第二个字\n",
    "2、拼接成完成的名字\n",
    "3、输出名字\n"
   ]
  },
  {
   "cell_type": "code",
   "execution_count": 12,
   "metadata": {},
   "outputs": [
    {
     "name": "stdout",
     "output_type": "stream",
     "text": [
      "name:liyuanbao\n"
     ]
    }
   ],
   "source": [
    "first_name = input(\"first name:\")\n",
    "second_name = input(\"second name:\")\n",
    "name = first_name + second_name\n",
    "print(f\"name:{name}\")"
   ]
  },
  {
   "cell_type": "markdown",
   "metadata": {},
   "source": [
    "# 总结\n",
    "1、了解input用法\n",
    "2、了解print语句的格式化的用法\n",
    "3、了解字符串变量，整数变量的区别\n",
    "4、了解赋值语句的含义\n",
    "5、了解int函数的使用方法，int(\"23\")\n"
   ]
  },
  {
   "cell_type": "markdown",
   "metadata": {},
   "source": [
    "# 练习\n",
    "## 编程题1\n",
    "1、计算元宝过去天的作业的时间消耗\n",
    "数学=1小时\n",
    "语文=1小时\n",
    "计算机=2小时\n",
    "打字=1小时\n",
    "打印出总的时间消耗\n",
    "\n",
    "2、计算出这个二年级同学的数量\n",
    "\n",
    "3、要求用户给出4个数字，并计算出总和，并输出\n",
    "\n",
    "4、要求用户给出5个数字，并计算出总的乘积，并输出\n",
    "\n",
    "\n",
    "\n"
   ]
  }
 ],
 "metadata": {
  "kernelspec": {
   "display_name": "Python 3",
   "language": "python",
   "name": "python3"
  },
  "language_info": {
   "codemirror_mode": {
    "name": "ipython",
    "version": 3
   },
   "file_extension": ".py",
   "mimetype": "text/x-python",
   "name": "python",
   "nbconvert_exporter": "python",
   "pygments_lexer": "ipython3",
   "version": "3.12.2"
  }
 },
 "nbformat": 4,
 "nbformat_minor": 2
}
