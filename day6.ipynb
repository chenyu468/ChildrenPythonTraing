{
 "cells": [
  {
   "cell_type": "markdown",
   "metadata": {},
   "source": [
    "# day6内容，2024/4/27\n",
    "\n",
    "# 循环与分支与赋值语句组合\n",
    "\n",
    "# 学习 while 循环语句\n",
    "\n",
    "# 学习 continue语句\n",
    "\n",
    "# 出错问题判断说明\n",
    "\n"
   ]
  },
  {
   "cell_type": "markdown",
   "metadata": {},
   "source": [
    "# 循环与分支与赋值语句组合\n",
    "## 循环过程分析题"
   ]
  },
  {
   "cell_type": "code",
   "execution_count": null,
   "metadata": {},
   "outputs": [],
   "source": [
    "s = 0\n",
    "k = 1\n",
    "li = [4,6,8,5,12,3,1,68,0,20,30]\n",
    "for i in li:\n",
    "    if i ==0:\n",
    "        break\n",
    "    if i % 2 == 0:\n",
    "        s = s + 1\n",
    "    if i % 2 == 1:\n",
    "        k = k * i\n",
    "print(f\"s:{s},k:{k}\")\n"
   ]
  },
  {
   "cell_type": "code",
   "execution_count": null,
   "metadata": {},
   "outputs": [],
   "source": [
    "m = 0\n",
    "ma = 666666\n",
    "li = [4,6,8,5,12,3,1,68,0,20,30]\n",
    "for i in li:\n",
    "    if i > m:\n",
    "        m = i\n",
    "    if i < ma:\n",
    "        ma = i\n",
    "print(f\"m:{m},ma:{ma}\")"
   ]
  },
  {
   "cell_type": "code",
   "execution_count": null,
   "metadata": {},
   "outputs": [],
   "source": [
    "f = 0\n",
    "m = 0\n",
    "l = 0\n",
    "t = 0\n",
    "li = [3,5,9,10,51,33,2,37,59,77,90,10]\n",
    "for i in li:\n",
    "    if i >= 0 and (i <= 30):\n",
    "        f = f + 1\n",
    "    else: \n",
    "        if i <= 60:\n",
    "            m = m+1\n",
    "        else:\n",
    "            l = l + 1\n",
    "    t = t + 1\n",
    "print(f\"f:{f},m:{m},l:{l},t:{t}\")"
   ]
  },
  {
   "cell_type": "markdown",
   "metadata": {},
   "source": [
    "# 编程题\n",
    "# 统计（计算）1-99中，数字除以3余数为0， 余数为1，余数为2的数字的数量，分别保存在a,b,c三个变量中"
   ]
  },
  {
   "cell_type": "code",
   "execution_count": null,
   "metadata": {},
   "outputs": [],
   "source": []
  },
  {
   "cell_type": "markdown",
   "metadata": {},
   "source": [
    "# 补充代码，是两个变量中的值相互更换，例如：变量a与变量b中的值，a变成b的值，b变成a的值\n"
   ]
  },
  {
   "cell_type": "code",
   "execution_count": null,
   "metadata": {},
   "outputs": [],
   "source": [
    "a = 3\n",
    "b = 5\n",
    "print(f\"更换前：a:{a},b:{b}\")\n",
    "???\n",
    "???\n",
    "???\n",
    "print(f\"更换后：a:{a},b:{b}\")"
   ]
  },
  {
   "cell_type": "markdown",
   "metadata": {},
   "source": [
    "2024/4/27 补充习题\n",
    "```\n",
    "1、编程题\n",
    "\n",
    "\n",
    "给出一个数据\n",
    "如果这个数 1-9之间，提示“十以内”，如果这个数 10-19之间，提示“十到二十以内”，否则提示“很大”\n",
    "提示：使用两个if else语句\n",
    "```"
   ]
  },
  {
   "cell_type": "code",
   "execution_count": null,
   "metadata": {},
   "outputs": [],
   "source": []
  },
  {
   "cell_type": "markdown",
   "metadata": {},
   "source": [
    "2、编程题\n",
    "给出一个数据\n",
    "如果这个数据，除以5余数为0，提示“余数0”，如果 余数为1，提示“余数1”，如果余数为2，提示“余数2”，如果余数为3，提示“余数3”，如果余数为4，提示“余数4”\n",
    "提示： 使用4个if else语句\n",
    "\n"
   ]
  },
  {
   "cell_type": "code",
   "execution_count": null,
   "metadata": {},
   "outputs": [],
   "source": []
  },
  {
   "cell_type": "markdown",
   "metadata": {},
   "source": [
    "3、编程题\n",
    "给出一个数组 [1,3,5,6,8,5,10,20,9,7]\n",
    "使用5个变量，a,b,c,d,e，分别统计2的倍数，3的倍数，5的倍数，7的倍数，全部个数\n",
    "\n",
    "提示：使用一个for循环，倍数使用 % x == 0判断 \n"
   ]
  },
  {
   "cell_type": "markdown",
   "metadata": {},
   "source": [
    "# while语句，也是循环语句的一种，和for类似，用于在条件满足的情况下循环，直到循环条件不满足为止"
   ]
  },
  {
   "cell_type": "code",
   "execution_count": null,
   "metadata": {},
   "outputs": [],
   "source": [
    "i = 100\n",
    "t = 3\n",
    "while i > 3:\n",
    "    i = i - 3\n",
    "print(f\"i:{i}\") "
   ]
  },
  {
   "cell_type": "code",
   "execution_count": null,
   "metadata": {},
   "outputs": [],
   "source": [
    "i = 4\n",
    "s = 0\n",
    "while i >= 0:\n",
    "    s = s + i\n",
    "    i = i - 1\n",
    "print(f\"s:{s},i:{i}\")"
   ]
  },
  {
   "cell_type": "markdown",
   "metadata": {},
   "source": [
    "# 编程题，while\n",
    "# 用while语句计算 1*2*。。。*7的累乘"
   ]
  },
  {
   "cell_type": "code",
   "execution_count": null,
   "metadata": {},
   "outputs": [],
   "source": []
  },
  {
   "cell_type": "code",
   "execution_count": null,
   "metadata": {},
   "outputs": [],
   "source": [
    "# 用于允许用户循环输入无数数字放入变量a中，但是有下面一个条件\n",
    "# 如果a> 0, 打印有效数字，如果小于0，打印失败，然后程序结束\n",
    "# 循环时使用while语句\n",
    "# 提示：\n",
    "## input语句在while语句里面"
   ]
  },
  {
   "cell_type": "code",
   "execution_count": null,
   "metadata": {},
   "outputs": [],
   "source": []
  },
  {
   "cell_type": "markdown",
   "metadata": {},
   "source": [
    "# continue语句，与break语句类似，用于控制循环中，语句的走向，break是直接退出循环，continue是退出当前循环中后续的语句，但是开始下一个循环"
   ]
  },
  {
   "cell_type": "code",
   "execution_count": null,
   "metadata": {},
   "outputs": [],
   "source": [
    "s = 0\n",
    "m = 0\n",
    "for i in range(0,100):\n",
    "    if i == 17:\n",
    "        break\n",
    "    if i % 3 == 1:\n",
    "        m = m + i\n",
    "        print(f\"i:{i},m:{m}\")\n",
    "        continue\n",
    "    s = s + 1\n",
    "print(f\"m:{m},s:{s}\")"
   ]
  },
  {
   "cell_type": "markdown",
   "metadata": {},
   "source": [
    "# 出错说明\n",
    "# SyntaxError，Syntax，表示语法，Error表示错误\n",
    "# literal，表示数字\n",
    "# assign，表示赋值\n",
    "SyntaxError: cannot assign to literal here. Maybe you meant '==' instead of '='?\n",
    "# line，表示行\n",
    "# cannot，不能"
   ]
  },
  {
   "cell_type": "code",
   "execution_count": null,
   "metadata": {},
   "outputs": [],
   "source": [
    "i = 2\n",
    "2 = i"
   ]
  },
  {
   "cell_type": "markdown",
   "metadata": {},
   "source": [
    "# 漏掉符号\n",
    "# expected, 表示期望\n",
    "# unmatched, 不匹配的， match，表示匹配，un是前缀，表示“不”的意思"
   ]
  },
  {
   "cell_type": "code",
   "execution_count": null,
   "metadata": {},
   "outputs": [],
   "source": [
    "i = 2\n",
    "if i > 2:\n",
    "    s = 3\n",
    "else\n",
    "    s = 4"
   ]
  },
  {
   "cell_type": "code",
   "execution_count": null,
   "metadata": {},
   "outputs": [],
   "source": [
    "for i in range(1,10)):\n",
    "    s = 1"
   ]
  },
  {
   "cell_type": "markdown",
   "metadata": {},
   "source": [
    "# 2024/4/27作业：\n",
    " ```\n",
    "1、用户数据数据的汇总程序，允许用户输入数字，数字除以3余数为1的数字数量保存在变量m中\n",
    "数字除以3余数为2的数字保存在变量s中\n",
    "数字等于0是，退出循环\n",
    "要求使用while语句\n",
    "```"
   ]
  },
  {
   "cell_type": "code",
   "execution_count": null,
   "metadata": {},
   "outputs": [],
   "source": []
  },
  {
   "cell_type": "markdown",
   "metadata": {},
   "source": [
    "```\n",
    "2、用户输入一个数字\n",
    "检查是否有2的因数，如果有打印，“是，包含2的因数” (只除一次)\n",
    "\n",
    "```"
   ]
  },
  {
   "cell_type": "code",
   "execution_count": null,
   "metadata": {},
   "outputs": [],
   "source": []
  },
  {
   "cell_type": "markdown",
   "metadata": {},
   "source": [
    "```\n",
    "3、用户输入一个数字\n",
    "循环检查2的因数，除以2，如果除尽，继续除，直到除不尽为止，每除一次，打印“整除2” （与第二题区别，除光为止）\n",
    "\n",
    "```"
   ]
  },
  {
   "cell_type": "code",
   "execution_count": null,
   "metadata": {},
   "outputs": [],
   "source": []
  },
  {
   "cell_type": "markdown",
   "metadata": {},
   "source": [
    "```\n",
    "4、找出一组数中最大的一个数字\n",
    "```"
   ]
  },
  {
   "cell_type": "code",
   "execution_count": null,
   "metadata": {},
   "outputs": [],
   "source": []
  },
  {
   "cell_type": "markdown",
   "metadata": {},
   "source": [
    "```\n",
    "5、找出一组数中第二大的数字\n",
    "```"
   ]
  }
 ],
 "metadata": {
  "kernelspec": {
   "display_name": "Python 3",
   "language": "python",
   "name": "python3"
  },
  "language_info": {
   "codemirror_mode": {
    "name": "ipython",
    "version": 3
   },
   "file_extension": ".py",
   "mimetype": "text/x-python",
   "name": "python",
   "nbconvert_exporter": "python",
   "pygments_lexer": "ipython3",
   "version": "3.12.2"
  }
 },
 "nbformat": 4,
 "nbformat_minor": 2
}
