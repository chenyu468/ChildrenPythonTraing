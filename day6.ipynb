{
 "cells": [
  {
   "cell_type": "markdown",
   "metadata": {},
   "source": [
    "# day6内容\n",
    "\n",
    "# 循环与分支与赋值语句组合\n",
    "\n",
    "# 学习 while 循环语句\n",
    "\n",
    "# 学习 continue语句\n",
    "\n",
    "# 出错问题判断说明\n",
    "\n"
   ]
  },
  {
   "cell_type": "markdown",
   "metadata": {},
   "source": [
    "# 循环与分支与赋值语句组合\n",
    "## 循环过程分析题"
   ]
  },
  {
   "cell_type": "code",
   "execution_count": 2,
   "metadata": {},
   "outputs": [
    {
     "name": "stdout",
     "output_type": "stream",
     "text": [
      "s:5,k:15\n"
     ]
    }
   ],
   "source": [
    "s = 0\n",
    "k = 1\n",
    "li = [4,6,8,5,12,3,1,68,0,20,30]\n",
    "for i in li:\n",
    "    if i ==0:\n",
    "        break\n",
    "    if i % 2 == 0:\n",
    "        s = s + 1\n",
    "    if i % 2 == 1:\n",
    "        k = k * i\n",
    "print(f\"s:{s},k:{k}\")\n"
   ]
  },
  {
   "cell_type": "code",
   "execution_count": 4,
   "metadata": {},
   "outputs": [
    {
     "name": "stdout",
     "output_type": "stream",
     "text": [
      "m:68,ma:0\n"
     ]
    }
   ],
   "source": [
    "m = 0\n",
    "ma = 666666\n",
    "li = [4,6,8,5,12,3,1,68,0,20,30]\n",
    "for i in li:\n",
    "    if i > m:\n",
    "        m = i\n",
    "    if i < ma:\n",
    "        ma = i\n",
    "print(f\"m:{m},ma:{ma}\")"
   ]
  },
  {
   "cell_type": "code",
   "execution_count": 6,
   "metadata": {},
   "outputs": [
    {
     "name": "stdout",
     "output_type": "stream",
     "text": [
      "f:6,m:4,l:2,t:12\n"
     ]
    }
   ],
   "source": [
    "f = 0\n",
    "m = 0\n",
    "l = 0\n",
    "t = 0\n",
    "li = [3,5,9,10,51,33,2,37,59,77,90,10]\n",
    "for i in li:\n",
    "    if i >= 0 and (i <= 30):\n",
    "        f = f + 1\n",
    "    else: \n",
    "        if i <= 60:\n",
    "            m = m+1\n",
    "        else:\n",
    "            l = l + 1\n",
    "    t = t + 1\n",
    "print(f\"f:{f},m:{m},l:{l},t:{t}\")"
   ]
  },
  {
   "cell_type": "markdown",
   "metadata": {},
   "source": [
    "# 编程题\n",
    "# 统计（计算）1-99中，数字除以3余数为0， 余数为1，余数为2的数字的数量，分别保存在a,b,c三个变量中"
   ]
  },
  {
   "cell_type": "code",
   "execution_count": null,
   "metadata": {},
   "outputs": [],
   "source": []
  },
  {
   "cell_type": "markdown",
   "metadata": {},
   "source": [
    "# 补充代码，是两个变量中的值相互更换，例如：变量a与变量b中的值，a变成b的值，b变成a的值\n"
   ]
  },
  {
   "cell_type": "code",
   "execution_count": null,
   "metadata": {},
   "outputs": [],
   "source": [
    "a = 3\n",
    "b = 5\n",
    "print(f\"更换前：a:{a},b:{b}\")\n",
    "???\n",
    "???\n",
    "???\n",
    "print(f\"更换后：a:{a},b:{b}\")"
   ]
  },
  {
   "cell_type": "markdown",
   "metadata": {},
   "source": [
    "# while语句，也是循环语句的一种，和for类似，用于在条件满足的情况下循环，直到循环条件不满足为止"
   ]
  },
  {
   "cell_type": "code",
   "execution_count": 9,
   "metadata": {},
   "outputs": [
    {
     "name": "stdout",
     "output_type": "stream",
     "text": [
      "i:1\n"
     ]
    }
   ],
   "source": [
    "i = 100\n",
    "t = 3\n",
    "while i > 3:\n",
    "    i = i - 3\n",
    "print(f\"i:{i}\") "
   ]
  },
  {
   "cell_type": "code",
   "execution_count": 11,
   "metadata": {},
   "outputs": [
    {
     "name": "stdout",
     "output_type": "stream",
     "text": [
      "s:10,i:-1\n"
     ]
    }
   ],
   "source": [
    "i = 4\n",
    "s = 0\n",
    "while i >= 0:\n",
    "    s = s + i\n",
    "    i = i - 1\n",
    "print(f\"s:{s},i:{i}\")"
   ]
  },
  {
   "cell_type": "markdown",
   "metadata": {},
   "source": [
    "# 编程题，while\n",
    "# 用while语句计算 1*2*。。。*7的累乘"
   ]
  },
  {
   "cell_type": "code",
   "execution_count": null,
   "metadata": {},
   "outputs": [],
   "source": []
  },
  {
   "cell_type": "code",
   "execution_count": null,
   "metadata": {},
   "outputs": [],
   "source": [
    "# 用于允许用户循环输入无数数字放入变量a中，但是有下面一个条件\n",
    "# 如果a> 0, 打印有效数字，如果小于0，打印失败，然后程序结束\n",
    "# 循环时使用while语句\n",
    "# 提示：\n",
    "## input语句在while语句里面"
   ]
  },
  {
   "cell_type": "code",
   "execution_count": null,
   "metadata": {},
   "outputs": [],
   "source": []
  },
  {
   "cell_type": "markdown",
   "metadata": {},
   "source": [
    "# continue语句，与break语句类似，用于控制循环中，语句的走向，break是直接退出循环，continue是退出当前循环中后续的语句，但是开始下一个循环"
   ]
  },
  {
   "cell_type": "code",
   "execution_count": 18,
   "metadata": {},
   "outputs": [
    {
     "name": "stdout",
     "output_type": "stream",
     "text": [
      "i:1,m:1\n",
      "i:4,m:5\n",
      "i:7,m:12\n",
      "i:10,m:22\n",
      "i:13,m:35\n",
      "i:16,m:51\n",
      "m:51,s:11\n"
     ]
    }
   ],
   "source": [
    "s = 0\n",
    "m = 0\n",
    "for i in range(0,100):\n",
    "    if i == 17:\n",
    "        break\n",
    "    if i % 3 == 1:\n",
    "        m = m + i\n",
    "        print(f\"i:{i},m:{m}\")\n",
    "        continue\n",
    "    s = s + 1\n",
    "print(f\"m:{m},s:{s}\")"
   ]
  },
  {
   "cell_type": "markdown",
   "metadata": {},
   "source": [
    "# 出错说明\n",
    "# SyntaxError，Syntax，表示语法，Error表示错误\n",
    "# literal，表示数字\n",
    "# assign，表示赋值\n",
    "SyntaxError: cannot assign to literal here. Maybe you meant '==' instead of '='?\n",
    "# line，表示行\n",
    "# cannot，不能"
   ]
  },
  {
   "cell_type": "code",
   "execution_count": 20,
   "metadata": {},
   "outputs": [
    {
     "ename": "SyntaxError",
     "evalue": "cannot assign to literal here. Maybe you meant '==' instead of '='? (3261397518.py, line 2)",
     "output_type": "error",
     "traceback": [
      "\u001b[1;36m  Cell \u001b[1;32mIn[20], line 2\u001b[1;36m\u001b[0m\n\u001b[1;33m    2 = i\u001b[0m\n\u001b[1;37m    ^\u001b[0m\n\u001b[1;31mSyntaxError\u001b[0m\u001b[1;31m:\u001b[0m cannot assign to literal here. Maybe you meant '==' instead of '='?\n"
     ]
    }
   ],
   "source": [
    "i = 2\n",
    "2 = i"
   ]
  },
  {
   "cell_type": "markdown",
   "metadata": {},
   "source": [
    "# 漏掉符号\n",
    "# expected, 表示期望\n",
    "# unmatched, 不匹配的， match，表示匹配，un是前缀，表示“不”的意思"
   ]
  },
  {
   "cell_type": "code",
   "execution_count": 21,
   "metadata": {},
   "outputs": [
    {
     "ename": "SyntaxError",
     "evalue": "expected ':' (1426218117.py, line 4)",
     "output_type": "error",
     "traceback": [
      "\u001b[1;36m  Cell \u001b[1;32mIn[21], line 4\u001b[1;36m\u001b[0m\n\u001b[1;33m    else\u001b[0m\n\u001b[1;37m        ^\u001b[0m\n\u001b[1;31mSyntaxError\u001b[0m\u001b[1;31m:\u001b[0m expected ':'\n"
     ]
    }
   ],
   "source": [
    "i = 2\n",
    "if i > 2:\n",
    "    s = 3\n",
    "else\n",
    "    s = 4"
   ]
  },
  {
   "cell_type": "code",
   "execution_count": 22,
   "metadata": {},
   "outputs": [
    {
     "ename": "SyntaxError",
     "evalue": "unmatched ')' (2983679364.py, line 1)",
     "output_type": "error",
     "traceback": [
      "\u001b[1;36m  Cell \u001b[1;32mIn[22], line 1\u001b[1;36m\u001b[0m\n\u001b[1;33m    for i in range(1,10)):\u001b[0m\n\u001b[1;37m                        ^\u001b[0m\n\u001b[1;31mSyntaxError\u001b[0m\u001b[1;31m:\u001b[0m unmatched ')'\n"
     ]
    }
   ],
   "source": [
    "for i in range(1,10)):\n",
    "    s = 1"
   ]
  },
  {
   "cell_type": "markdown",
   "metadata": {},
   "source": [
    "# 2024/4/27作业：\n",
    " ```\n",
    "1、用户数据数据的汇总程序，允许用户输入数字，数字除以3余数为1的数字数量保存在变量m中\n",
    "数字除以3余数为2的数字保存在变量s中\n",
    "数字等于0是，退出循环\n",
    "要求使用while语句\n",
    "```"
   ]
  },
  {
   "cell_type": "code",
   "execution_count": null,
   "metadata": {},
   "outputs": [],
   "source": []
  },
  {
   "cell_type": "markdown",
   "metadata": {},
   "source": [
    "```\n",
    "2、用户输入一个数字\n",
    "检查是否有2的因数，如果有打印，“是，包含2的因数” (只除一次)\n",
    "\n",
    "```"
   ]
  },
  {
   "cell_type": "code",
   "execution_count": null,
   "metadata": {},
   "outputs": [],
   "source": []
  },
  {
   "cell_type": "markdown",
   "metadata": {},
   "source": [
    "```\n",
    "3、用户输入一个数字\n",
    "循环检查2的因数，除以2，如果除尽，继续除，直到除不尽为止，每除一次，打印“整除2” （与第二题区别，除光为止）\n",
    "\n",
    "```"
   ]
  },
  {
   "cell_type": "code",
   "execution_count": null,
   "metadata": {},
   "outputs": [],
   "source": []
  },
  {
   "cell_type": "markdown",
   "metadata": {},
   "source": [
    "```\n",
    "4、找出一组数中最大的一个数字\n",
    "```"
   ]
  },
  {
   "cell_type": "code",
   "execution_count": null,
   "metadata": {},
   "outputs": [],
   "source": []
  },
  {
   "cell_type": "markdown",
   "metadata": {},
   "source": [
    "```\n",
    "5、找出一组数中第二大的数字\n",
    "```"
   ]
  }
 ],
 "metadata": {
  "kernelspec": {
   "display_name": "Python 3",
   "language": "python",
   "name": "python3"
  },
  "language_info": {
   "codemirror_mode": {
    "name": "ipython",
    "version": 3
   },
   "file_extension": ".py",
   "mimetype": "text/x-python",
   "name": "python",
   "nbconvert_exporter": "python",
   "pygments_lexer": "ipython3",
   "version": "3.12.2"
  }
 },
 "nbformat": 4,
 "nbformat_minor": 2
}
